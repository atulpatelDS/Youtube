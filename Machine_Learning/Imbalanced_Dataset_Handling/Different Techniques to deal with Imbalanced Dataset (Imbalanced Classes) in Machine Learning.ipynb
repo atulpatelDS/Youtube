{
 "cells": [
  {
   "cell_type": "markdown",
   "id": "meaning-scout",
   "metadata": {},
   "source": [
    "## <span style=\"color:blue\"> Imbalanced Dataset (Imbalanced Classes) in Machine Learning and Different Techniques to deal with Imbalanced Dataset"
   ]
  },
  {
   "cell_type": "markdown",
   "id": "urban-logging",
   "metadata": {},
   "source": [
    "Class Imbalance is a common problem in machine learning, especially in classification problems. Imbalance data can hamper our model accuracy big time.\n",
    "\n",
    "Imbalanced datasets can be found for different use cases in various domains:\n",
    " - Finance: Fraud detection datasets commonly have a fraud rate of ~1–2%\n",
    " - Ad Serving: Click prediction datasets also don’t have a high clickthrough rate.\n",
    " - Transportation/Airline: Will Airplane failure occur?\n",
    " - Medical: Does a patient has cancer?\n",
    " - Content moderation: Does a post contain NSFW(Not safe for work) content?"
   ]
  },
  {
   "cell_type": "markdown",
   "id": "divided-cleaner",
   "metadata": {},
   "source": [
    "Have you ever faced an issue where you have such a small sample for the positive class in your dataset that the model is unable to learn?"
   ]
  },
  {
   "cell_type": "markdown",
   "id": "awful-mathematics",
   "metadata": {},
   "source": [
    "In such cases, you get a pretty high accuracy just by predicting the majority class, but you fail to capture the minority class, which is most often the point of creating the model in the first place."
   ]
  },
  {
   "cell_type": "markdown",
   "id": "gross-question",
   "metadata": {},
   "source": [
    "Imbalanced datasets are a special case for classification problem where the class distribution is not uniform among the classes. Typically, they are composed by two classes: The majority (negative) class and the minority (positive) class"
   ]
  },
  {
   "cell_type": "markdown",
   "id": "legislative-nature",
   "metadata": {},
   "source": [
    "### What would be the problem with Class Imbalance dataset while using in Machine Learning modelling ?"
   ]
  },
  {
   "cell_type": "markdown",
   "id": "filled-poland",
   "metadata": {},
   "source": [
    "Most machine learning algorithms work best when the number of samples in each class are about equal. This is because most algorithms are designed to maximize accuracy and reduce errors.\n",
    "\n",
    "However, if the data set is imbalance then In such cases, we get a pretty high accuracy just by predicting the majority class, but we fail to capture the minority class, which is most often the point of creating the model in the first place."
   ]
  },
  {
   "cell_type": "markdown",
   "id": "static-planner",
   "metadata": {},
   "source": [
    "### Credit Card Defaulters Dataset"
   ]
  },
  {
   "cell_type": "code",
   "execution_count": 1,
   "id": "isolated-replication",
   "metadata": {},
   "outputs": [],
   "source": [
    "import numpy as np\n",
    "import pandas as pd\n",
    "import seaborn as sns\n",
    "import matplotlib.pyplot as plt\n",
    "from collections import Counter\n",
    "%matplotlib inline"
   ]
  },
  {
   "cell_type": "code",
   "execution_count": 2,
   "id": "material-original",
   "metadata": {},
   "outputs": [],
   "source": [
    "## Load Dataset\n",
    "df_default = pd.read_csv(\"https://raw.githubusercontent.com/atulpatelDS/Data_Files/master/Credit_Card_Defaulter/Credit_Card_defaulters.csv\")"
   ]
  },
  {
   "cell_type": "code",
   "execution_count": 3,
   "id": "opposite-absolute",
   "metadata": {},
   "outputs": [
    {
     "data": {
      "text/html": [
       "<div>\n",
       "<style scoped>\n",
       "    .dataframe tbody tr th:only-of-type {\n",
       "        vertical-align: middle;\n",
       "    }\n",
       "\n",
       "    .dataframe tbody tr th {\n",
       "        vertical-align: top;\n",
       "    }\n",
       "\n",
       "    .dataframe thead th {\n",
       "        text-align: right;\n",
       "    }\n",
       "</style>\n",
       "<table border=\"1\" class=\"dataframe\">\n",
       "  <thead>\n",
       "    <tr style=\"text-align: right;\">\n",
       "      <th></th>\n",
       "      <th>default</th>\n",
       "      <th>student</th>\n",
       "      <th>balance</th>\n",
       "      <th>income</th>\n",
       "    </tr>\n",
       "  </thead>\n",
       "  <tbody>\n",
       "    <tr>\n",
       "      <th>0</th>\n",
       "      <td>No</td>\n",
       "      <td>No</td>\n",
       "      <td>729.526495</td>\n",
       "      <td>44361.62507</td>\n",
       "    </tr>\n",
       "    <tr>\n",
       "      <th>1</th>\n",
       "      <td>No</td>\n",
       "      <td>Yes</td>\n",
       "      <td>817.180407</td>\n",
       "      <td>12106.13470</td>\n",
       "    </tr>\n",
       "    <tr>\n",
       "      <th>2</th>\n",
       "      <td>No</td>\n",
       "      <td>No</td>\n",
       "      <td>1073.549164</td>\n",
       "      <td>31767.13895</td>\n",
       "    </tr>\n",
       "    <tr>\n",
       "      <th>3</th>\n",
       "      <td>No</td>\n",
       "      <td>No</td>\n",
       "      <td>529.250605</td>\n",
       "      <td>35704.49394</td>\n",
       "    </tr>\n",
       "    <tr>\n",
       "      <th>4</th>\n",
       "      <td>No</td>\n",
       "      <td>No</td>\n",
       "      <td>785.655883</td>\n",
       "      <td>38463.49588</td>\n",
       "    </tr>\n",
       "  </tbody>\n",
       "</table>\n",
       "</div>"
      ],
      "text/plain": [
       "  default student      balance       income\n",
       "0      No      No   729.526495  44361.62507\n",
       "1      No     Yes   817.180407  12106.13470\n",
       "2      No      No  1073.549164  31767.13895\n",
       "3      No      No   529.250605  35704.49394\n",
       "4      No      No   785.655883  38463.49588"
      ]
     },
     "execution_count": 3,
     "metadata": {},
     "output_type": "execute_result"
    }
   ],
   "source": [
    "df_default.head()"
   ]
  },
  {
   "cell_type": "code",
   "execution_count": 4,
   "id": "danish-infrared",
   "metadata": {},
   "outputs": [
    {
     "data": {
      "text/plain": [
       "<seaborn.axisgrid.FacetGrid at 0x22386b21808>"
      ]
     },
     "execution_count": 4,
     "metadata": {},
     "output_type": "execute_result"
    },
    {
     "data": {
      "image/png": "[encoded data removed]",
      "text/plain": [
       "<Figure size 288x288 with 1 Axes>"
      ]
     },
     "metadata": {
      "needs_background": "light"
     },
     "output_type": "display_data"
    }
   ],
   "source": [
    "##lets visualise the categorical features\n",
    "sns.catplot(x = \"default\",data= df_default,kind=\"count\",height=4,aspect=1)"
   ]
  },
  {
   "cell_type": "code",
   "execution_count": 5,
   "id": "bound-promise",
   "metadata": {},
   "outputs": [
    {
     "data": {
      "text/plain": [
       "No     9667\n",
       "Yes     333\n",
       "Name: default, dtype: int64"
      ]
     },
     "execution_count": 5,
     "metadata": {},
     "output_type": "execute_result"
    }
   ],
   "source": [
    "df_default.default.value_counts()"
   ]
  },
  {
   "cell_type": "markdown",
   "id": "reliable-typing",
   "metadata": {},
   "source": [
    "We can clearly see that there is a huge difference between the data set. 9667 non-defaulters transactions and 333 defaulters."
   ]
  },
  {
   "cell_type": "code",
   "execution_count": 6,
   "id": "everyday-guatemala",
   "metadata": {},
   "outputs": [],
   "source": [
    "# Apply encoding on Categorical columns\n",
    "#df_default[\"default\"] = df_default[\"default\"].apply({\"No\":0,\"Yes\":1}.get)\n",
    "df_default[\"default\"] = df_default[\"default\"].replace([\"No\",\"Yes\"],[0,1])\n",
    "df_default[\"student\"] = df_default[\"student\"].map({\"No\":0,\"Yes\":1})"
   ]
  },
  {
   "cell_type": "code",
   "execution_count": 7,
   "id": "amateur-marking",
   "metadata": {},
   "outputs": [
    {
     "data": {
      "text/plain": [
       "(10000, 4)"
      ]
     },
     "execution_count": 7,
     "metadata": {},
     "output_type": "execute_result"
    }
   ],
   "source": [
    "df_default.shape"
   ]
  },
  {
   "cell_type": "code",
   "execution_count": 8,
   "id": "aboriginal-insider",
   "metadata": {},
   "outputs": [
    {
     "data": {
      "text/html": [
       "<div>\n",
       "<style scoped>\n",
       "    .dataframe tbody tr th:only-of-type {\n",
       "        vertical-align: middle;\n",
       "    }\n",
       "\n",
       "    .dataframe tbody tr th {\n",
       "        vertical-align: top;\n",
       "    }\n",
       "\n",
       "    .dataframe thead th {\n",
       "        text-align: right;\n",
       "    }\n",
       "</style>\n",
       "<table border=\"1\" class=\"dataframe\">\n",
       "  <thead>\n",
       "    <tr style=\"text-align: right;\">\n",
       "      <th></th>\n",
       "      <th>default</th>\n",
       "      <th>student</th>\n",
       "      <th>balance</th>\n",
       "      <th>income</th>\n",
       "    </tr>\n",
       "  </thead>\n",
       "  <tbody>\n",
       "    <tr>\n",
       "      <th>0</th>\n",
       "      <td>0</td>\n",
       "      <td>0</td>\n",
       "      <td>729.526495</td>\n",
       "      <td>44361.62507</td>\n",
       "    </tr>\n",
       "    <tr>\n",
       "      <th>1</th>\n",
       "      <td>0</td>\n",
       "      <td>1</td>\n",
       "      <td>817.180407</td>\n",
       "      <td>12106.13470</td>\n",
       "    </tr>\n",
       "    <tr>\n",
       "      <th>2</th>\n",
       "      <td>0</td>\n",
       "      <td>0</td>\n",
       "      <td>1073.549164</td>\n",
       "      <td>31767.13895</td>\n",
       "    </tr>\n",
       "    <tr>\n",
       "      <th>3</th>\n",
       "      <td>0</td>\n",
       "      <td>0</td>\n",
       "      <td>529.250605</td>\n",
       "      <td>35704.49394</td>\n",
       "    </tr>\n",
       "    <tr>\n",
       "      <th>4</th>\n",
       "      <td>0</td>\n",
       "      <td>0</td>\n",
       "      <td>785.655883</td>\n",
       "      <td>38463.49588</td>\n",
       "    </tr>\n",
       "  </tbody>\n",
       "</table>\n",
       "</div>"
      ],
      "text/plain": [
       "   default  student      balance       income\n",
       "0        0        0   729.526495  44361.62507\n",
       "1        0        1   817.180407  12106.13470\n",
       "2        0        0  1073.549164  31767.13895\n",
       "3        0        0   529.250605  35704.49394\n",
       "4        0        0   785.655883  38463.49588"
      ]
     },
     "execution_count": 8,
     "metadata": {},
     "output_type": "execute_result"
    }
   ],
   "source": [
    "df_default.head()"
   ]
  },
  {
   "cell_type": "code",
   "execution_count": 9,
   "id": "coastal-playback",
   "metadata": {},
   "outputs": [
    {
     "data": {
      "text/plain": [
       "Counter({0: 9667, 1: 333})"
      ]
     },
     "execution_count": 9,
     "metadata": {},
     "output_type": "execute_result"
    }
   ],
   "source": [
    "Counter(df_default.default)"
   ]
  },
  {
   "cell_type": "code",
   "execution_count": 10,
   "id": "noted-efficiency",
   "metadata": {},
   "outputs": [],
   "source": [
    "## Import librairies\n",
    "from sklearn.linear_model import LogisticRegression\n",
    "from sklearn.metrics import accuracy_score,auc,average_precision_score,confusion_matrix,f1_score\n",
    "from sklearn.metrics import precision_score,recall_score,precision_recall_curve,roc_auc_score\n",
    "from sklearn.model_selection import train_test_split\n",
    "from sklearn import metrics"
   ]
  },
  {
   "cell_type": "code",
   "execution_count": 11,
   "id": "pretty-telephone",
   "metadata": {},
   "outputs": [],
   "source": [
    "# create X and y \n",
    "X = df_default.drop(\"default\", axis=1)\n",
    "y = df_default[\"default\"]"
   ]
  },
  {
   "cell_type": "code",
   "execution_count": 12,
   "id": "psychological-canal",
   "metadata": {},
   "outputs": [
    {
     "data": {
      "text/plain": [
       "Counter({0: 9667, 1: 333})"
      ]
     },
     "execution_count": 12,
     "metadata": {},
     "output_type": "execute_result"
    }
   ],
   "source": [
    "Counter(y)"
   ]
  },
  {
   "cell_type": "code",
   "execution_count": 13,
   "id": "ready-placement",
   "metadata": {},
   "outputs": [],
   "source": [
    "## split X and Y\n",
    "X_train,X_test,y_train,y_test = train_test_split(X,y,test_size = 0.3, random_state = 42)"
   ]
  },
  {
   "cell_type": "code",
   "execution_count": 14,
   "id": "adjustable-report",
   "metadata": {},
   "outputs": [
    {
     "data": {
      "text/plain": [
       "(7000, 3)"
      ]
     },
     "execution_count": 14,
     "metadata": {},
     "output_type": "execute_result"
    }
   ],
   "source": [
    "X_train.shape"
   ]
  },
  {
   "cell_type": "code",
   "execution_count": 15,
   "id": "governmental-brook",
   "metadata": {},
   "outputs": [
    {
     "data": {
      "text/plain": [
       "(3000, 3)"
      ]
     },
     "execution_count": 15,
     "metadata": {},
     "output_type": "execute_result"
    }
   ],
   "source": [
    "X_test.shape"
   ]
  },
  {
   "cell_type": "code",
   "execution_count": 16,
   "id": "induced-rally",
   "metadata": {},
   "outputs": [
    {
     "data": {
      "text/plain": [
       "0    6761\n",
       "1     239\n",
       "Name: default, dtype: int64"
      ]
     },
     "execution_count": 16,
     "metadata": {},
     "output_type": "execute_result"
    }
   ],
   "source": [
    "y_train.value_counts()"
   ]
  },
  {
   "cell_type": "markdown",
   "id": "closed-confirmation",
   "metadata": {},
   "source": [
    "# <span style=\"color:red\"> 1. Resampling Technique to handle the Imbalanced dataset"
   ]
  },
  {
   "cell_type": "markdown",
   "id": "elementary-convention",
   "metadata": {},
   "source": [
    "- Undersampling : removing some observations of the majority class(class:0). This is done until the majority and minority class is balanced out.\n",
    "\n",
    "- Oversampling : adding more examples from the minority class(Class:1)\n",
    "- Combining Oversampling and Undersampling"
   ]
  },
  {
   "cell_type": "code",
   "execution_count": 17,
   "id": "buried-minutes",
   "metadata": {},
   "outputs": [
    {
     "data": {
      "text/plain": [
       "0    9667\n",
       "1     333\n",
       "Name: default, dtype: int64"
      ]
     },
     "execution_count": 17,
     "metadata": {},
     "output_type": "execute_result"
    }
   ],
   "source": [
    "df_default.default.value_counts()"
   ]
  },
  {
   "cell_type": "markdown",
   "id": "exterior-final",
   "metadata": {},
   "source": [
    "<img src=\"https://raw.githubusercontent.com/atulpatelDS/Machine_Learning/master/Images/Undersampling_Oversampling.PNG\" width=\"940\" height=\"340\" align=\"left\"/>"
   ]
  },
  {
   "cell_type": "code",
   "execution_count": 18,
   "id": "respiratory-laptop",
   "metadata": {},
   "outputs": [
    {
     "name": "stdout",
     "output_type": "stream",
     "text": [
      "class 0: (6761,)\n",
      "class 1: (239,)\n"
     ]
    }
   ],
   "source": [
    "# class count\n",
    "y_train_count_0, y_train_count_1 = y_train.value_counts()\n",
    "# Separate the class\n",
    "y_train_0 = y_train[y_train == 0]\n",
    "y_train_1 = y_train[y_train == 1]\n",
    "# print the shape of the class\n",
    "print('class 0:', y_train_0.shape)\n",
    "print('class 1:', y_train_1.shape)"
   ]
  },
  {
   "cell_type": "markdown",
   "id": "dress-simple",
   "metadata": {},
   "source": [
    "## <span style=\"color:green\"> Under-Sampling to deal with Imbalanced Dataset"
   ]
  },
  {
   "cell_type": "markdown",
   "id": "comprehensive-burning",
   "metadata": {},
   "source": [
    "### <span style=\"color:blue\"> 1 : Random Under-Sampling"
   ]
  },
  {
   "cell_type": "code",
   "execution_count": 19,
   "id": "engaging-nature",
   "metadata": {},
   "outputs": [
    {
     "data": {
      "text/plain": [
       "pandas.core.series.Series"
      ]
     },
     "execution_count": 19,
     "metadata": {},
     "output_type": "execute_result"
    }
   ],
   "source": [
    "type(y_train_0)"
   ]
  },
  {
   "cell_type": "code",
   "execution_count": 20,
   "id": "effective-bacon",
   "metadata": {},
   "outputs": [
    {
     "name": "stdout",
     "output_type": "stream",
     "text": [
      "total class : \n",
      "0    239\n",
      "1    239\n",
      "Name: default, dtype: int64\n"
     ]
    },
    {
     "data": {
      "text/plain": [
       "<AxesSubplot:title={'center':'count (y_train)'}>"
      ]
     },
     "execution_count": 20,
     "metadata": {},
     "output_type": "execute_result"
    },
    {
     "data": {
      "image/png": "[encoded data removed]",
      "text/plain": [
       "<Figure size 432x288 with 1 Axes>"
      ]
     },
     "metadata": {
      "needs_background": "light"
     },
     "output_type": "display_data"
    }
   ],
   "source": [
    "y_train_0_under = y_train_0.sample(y_train_count_1)\n",
    "\n",
    "y_train_under = pd.concat([y_train_0_under, y_train_1], axis=0)\n",
    "\n",
    "print(\"total class : \")\n",
    "print(y_train_under.value_counts())\n",
    "# plot the count after under-sampeling\n",
    "y_train_under.value_counts().plot(kind='bar', title='count (y_train)')"
   ]
  },
  {
   "cell_type": "markdown",
   "id": "under-granny",
   "metadata": {},
   "source": [
    "### <span style=\"color:blue\"> 2 : Random under-sampling with imblearn"
   ]
  },
  {
   "cell_type": "code",
   "execution_count": 21,
   "id": "brilliant-deputy",
   "metadata": {},
   "outputs": [],
   "source": [
    "import imblearn"
   ]
  },
  {
   "cell_type": "code",
   "execution_count": 22,
   "id": "taken-traveler",
   "metadata": {},
   "outputs": [],
   "source": [
    "from imblearn.under_sampling import RandomUnderSampler"
   ]
  },
  {
   "cell_type": "code",
   "execution_count": 23,
   "id": "serial-macedonia",
   "metadata": {},
   "outputs": [],
   "source": [
    "rus = RandomUnderSampler()\n",
    "X_train_rus,y_train_rus = rus.fit_sample(X_train,y_train)"
   ]
  },
  {
   "cell_type": "code",
   "execution_count": 24,
   "id": "found-lottery",
   "metadata": {},
   "outputs": [
    {
     "data": {
      "text/plain": [
       "(478,)"
      ]
     },
     "execution_count": 24,
     "metadata": {},
     "output_type": "execute_result"
    }
   ],
   "source": [
    "y_train_rus.shape"
   ]
  },
  {
   "cell_type": "code",
   "execution_count": 25,
   "id": "optical-mountain",
   "metadata": {},
   "outputs": [
    {
     "data": {
      "text/plain": [
       "(478, 3)"
      ]
     },
     "execution_count": 25,
     "metadata": {},
     "output_type": "execute_result"
    }
   ],
   "source": [
    "X_train_rus.shape"
   ]
  },
  {
   "cell_type": "code",
   "execution_count": 26,
   "id": "amino-accuracy",
   "metadata": {},
   "outputs": [
    {
     "name": "stdout",
     "output_type": "stream",
     "text": [
      "original dataset shape: Counter({0: 6761, 1: 239})\n",
      "Resample dataset shape Counter({0: 239, 1: 239})\n"
     ]
    }
   ],
   "source": [
    "print('original dataset shape:', Counter(y_train))\n",
    "print('Resample dataset shape', Counter(y_train_rus))"
   ]
  },
  {
   "cell_type": "markdown",
   "id": "outdoor-specialist",
   "metadata": {},
   "source": [
    "### <span style=\"color:blue\"> 3 : Under-sampling: Tomek links"
   ]
  },
  {
   "cell_type": "markdown",
   "id": "hispanic-company",
   "metadata": {},
   "source": [
    "Tomek links are pairs of very close instances but of opposite classes. By removing the examples of the majority class of each pair, we increase the space between the two classes and move toward balancing the dataset by deleting those points.\n"
   ]
  },
  {
   "cell_type": "markdown",
   "id": "behind-circle",
   "metadata": {},
   "source": [
    "<img src=\"https://raw.githubusercontent.com/atulpatelDS/Machine_Learning/master/Images/tomlink.PNG\" width=\"540\" height=\"240\" align=\"left\"/>"
   ]
  },
  {
   "cell_type": "code",
   "execution_count": 27,
   "id": "subjective-bunch",
   "metadata": {},
   "outputs": [],
   "source": [
    "from imblearn.under_sampling import TomekLinks"
   ]
  },
  {
   "cell_type": "code",
   "execution_count": 28,
   "id": "blocked-privilege",
   "metadata": {},
   "outputs": [],
   "source": [
    "tl = TomekLinks(sampling_strategy='majority')\n",
    "X_train_tl,y_train_tl = tl.fit_sample(X_train,y_train)"
   ]
  },
  {
   "cell_type": "code",
   "execution_count": 29,
   "id": "vertical-anthony",
   "metadata": {},
   "outputs": [
    {
     "name": "stdout",
     "output_type": "stream",
     "text": [
      "original dataset shape: Counter({0: 6761, 1: 239})\n",
      "Resample dataset shape Counter({0: 6670, 1: 239})\n"
     ]
    }
   ],
   "source": [
    "print('original dataset shape:', Counter(y_train))\n",
    "print('Resample dataset shape', Counter(y_train_tl))"
   ]
  },
  {
   "cell_type": "markdown",
   "id": "sharing-brush",
   "metadata": {},
   "source": [
    "### <span style=\"color:blue\"> 4 : Undersampling with Cluster Centroids"
   ]
  },
  {
   "cell_type": "markdown",
   "id": "daily-branch",
   "metadata": {},
   "source": [
    "remove the unimportant instance from the majority class. To decide whether an instance is important or not, we use the concept of clustering on the geometry of the feature space."
   ]
  },
  {
   "cell_type": "markdown",
   "id": "coordinate-glossary",
   "metadata": {},
   "source": [
    "<img src=\"https://raw.githubusercontent.com/atulpatelDS/Machine_Learning/master/Images/clustercentrlid.PNG\" width=\"540\" height=\"240\" align=\"left\"/>"
   ]
  },
  {
   "cell_type": "markdown",
   "id": "acute-lawyer",
   "metadata": {},
   "source": [
    "Steps :\n",
    " - find cluster centroid\n",
    " - The instance belonging to the cluster (majority class), which is farthest from the cluster centroid in the feature space, is considered to be the most unimportant instance.\n",
    " - The instance belonging to the majority class, which is nearest to the cluster centroid in the feature space, is considered to be the most important instance."
   ]
  },
  {
   "cell_type": "code",
   "execution_count": 30,
   "id": "detailed-control",
   "metadata": {},
   "outputs": [],
   "source": [
    "from imblearn.under_sampling import ClusterCentroids"
   ]
  },
  {
   "cell_type": "code",
   "execution_count": 31,
   "id": "indie-china",
   "metadata": {},
   "outputs": [
    {
     "name": "stderr",
     "output_type": "stream",
     "text": [
      "C:\\ProgramData\\Anaconda3\\lib\\site-packages\\sklearn\\cluster\\_kmeans.py:939: FutureWarning: 'n_jobs' was deprecated in version 0.23 and will be removed in 0.25.\n",
      "  \" removed in 0.25.\", FutureWarning)\n"
     ]
    }
   ],
   "source": [
    "# instantiate the object with the right ratio.\n",
    "cc = ClusterCentroids(sampling_strategy=\"auto\")\n",
    "\n",
    "# fit the object to the training data.\n",
    "X_train_cc, y_train_cc = cc.fit_sample(X_train, y_train)"
   ]
  },
  {
   "cell_type": "code",
   "execution_count": 32,
   "id": "automotive-mercury",
   "metadata": {},
   "outputs": [
    {
     "name": "stdout",
     "output_type": "stream",
     "text": [
      "original dataset shape: Counter({0: 6761, 1: 239})\n",
      "Resample dataset shape Counter({0: 239, 1: 239})\n"
     ]
    }
   ],
   "source": [
    "print('original dataset shape:', Counter(y_train))\n",
    "print('Resample dataset shape', Counter(y_train_cc))"
   ]
  },
  {
   "cell_type": "markdown",
   "id": "democratic-rocket",
   "metadata": {},
   "source": [
    "### <span style=\"color:blue\"> 5 : NearMiss Undersampling"
   ]
  },
  {
   "cell_type": "markdown",
   "id": "disabled-royal",
   "metadata": {},
   "source": [
    "The NearMiss algorithm has been proposed to solve the issue of potential information loss. It’s based on the nearest neighbor algorithm and has a lot of variations that we’ll see in this section.\n",
    "\n",
    "The basics of the NearMiss algorithms include the following:\n",
    " - The method starts by calculating the distances between all instances of the majority class and the instances of the minority class.\n",
    " - Then k instances of the majority class that have the smallest distances to those in the minority class are selected to be retained.\n",
    " - If there are n instances in the minority class, NearMiss will result in k × n instances of the majority class."
   ]
  },
  {
   "cell_type": "markdown",
   "id": "retained-research",
   "metadata": {},
   "source": [
    "<img src=\"https://raw.githubusercontent.com/atulpatelDS/Machine_Learning/master/Images/nearmiss.PNG\" width=\"540\" height=\"240\" align=\"left\"/>"
   ]
  },
  {
   "cell_type": "markdown",
   "id": "whole-viking",
   "metadata": {},
   "source": [
    "Here are the different versions of this algorithm:\n",
    " - NearMiss-1 chooses instances of the majority class where their average distances to the three closest instances of the minority class are the smallest.\n",
    " - NearMiss-2  chooses instances of the majority class where their average distances to the three farthest samples of the minority class are the smallest.\n",
    " - NearMiss-3 picks a given number of the closest samples of the majority class for each sample of the minority class."
   ]
  },
  {
   "cell_type": "code",
   "execution_count": 33,
   "id": "acute-pathology",
   "metadata": {},
   "outputs": [],
   "source": [
    "from imblearn.under_sampling import NearMiss"
   ]
  },
  {
   "cell_type": "code",
   "execution_count": 34,
   "id": "wound-insider",
   "metadata": {},
   "outputs": [],
   "source": [
    "# create the object with auto\n",
    "nm = NearMiss(sampling_strategy=\"not minority\")\n",
    "\n",
    "# fit the object to the training data.\n",
    "X_train_nm, y_train_nm = nm.fit_sample(X_train, y_train)"
   ]
  },
  {
   "cell_type": "code",
   "execution_count": 35,
   "id": "soviet-patrol",
   "metadata": {},
   "outputs": [
    {
     "name": "stdout",
     "output_type": "stream",
     "text": [
      "original dataset shape: Counter({0: 6761, 1: 239})\n",
      "Resample dataset shape Counter({0: 239, 1: 239})\n"
     ]
    }
   ],
   "source": [
    "print('original dataset shape:', Counter(y_train))\n",
    "print('Resample dataset shape', Counter(y_train_nm))"
   ]
  },
  {
   "cell_type": "markdown",
   "id": "adverse-tennessee",
   "metadata": {},
   "source": [
    "### <span style=\"color:blue\"> 6 : Undersampling with Neighbourhood Cleaning Rule"
   ]
  },
  {
   "cell_type": "markdown",
   "id": "indonesian-witch",
   "metadata": {},
   "source": [
    "Neighbourhood Cleaning Rule deals with the majority and minority samples separately when sampling the datasets.\n",
    "NCR starts by calculating the nearest k(default = 3) neighbors for all instances in the training set. We then do the following:\n",
    " - If the instance belongs to the majority class and the classification given by its three nearest neighbors is the opposite of the class of the chosen instance — then the chosen instance is removed.\n",
    " - If the instance belongs to the minority class and it’s misclassified by its three nearest neighbors — then the nearest neighbors that belong to the majority class are removed."
   ]
  },
  {
   "cell_type": "code",
   "execution_count": 36,
   "id": "finished-transcription",
   "metadata": {},
   "outputs": [],
   "source": [
    "from imblearn.under_sampling import NeighbourhoodCleaningRule"
   ]
  },
  {
   "cell_type": "code",
   "execution_count": 37,
   "id": "realistic-seeking",
   "metadata": {},
   "outputs": [],
   "source": [
    "# create the object to resample the majority class.\n",
    "ncr = NeighbourhoodCleaningRule(sampling_strategy=\"majority\")\n",
    "\n",
    "# fit the object to the training data.\n",
    "X_train_ncr, y_train_ncr = ncr.fit_sample(X_train, y_train)"
   ]
  },
  {
   "cell_type": "code",
   "execution_count": 38,
   "id": "recent-third",
   "metadata": {},
   "outputs": [
    {
     "name": "stdout",
     "output_type": "stream",
     "text": [
      "original dataset shape: Counter({0: 6761, 1: 239})\n",
      "Resample dataset shape Counter({0: 6354, 1: 239})\n"
     ]
    }
   ],
   "source": [
    "print('original dataset shape:', Counter(y_train))\n",
    "print('Resample dataset shape', Counter(y_train_ncr))"
   ]
  },
  {
   "cell_type": "markdown",
   "id": "express-technology",
   "metadata": {},
   "source": [
    "### Creating logistic Regression Model before Under-Sampling"
   ]
  },
  {
   "cell_type": "code",
   "execution_count": 39,
   "id": "grand-ratio",
   "metadata": {},
   "outputs": [
    {
     "data": {
      "text/plain": [
       "LogisticRegression()"
      ]
     },
     "execution_count": 39,
     "metadata": {},
     "output_type": "execute_result"
    }
   ],
   "source": [
    "logreg = LogisticRegression()\n",
    "logreg.fit(X_train,y_train)"
   ]
  },
  {
   "cell_type": "code",
   "execution_count": 40,
   "id": "noted-start",
   "metadata": {},
   "outputs": [
    {
     "name": "stdout",
     "output_type": "stream",
     "text": [
      "Accuracy Score before Sampling :  0.9683333333333334\n",
      "ROC AUC Score before Sampling :  0.5976226735587413\n",
      "              precision    recall  f1-score   support\n",
      "\n",
      "           0       0.97      0.99      0.98      2906\n",
      "           1       0.49      0.20      0.29        94\n",
      "\n",
      "    accuracy                           0.97      3000\n",
      "   macro avg       0.73      0.60      0.63      3000\n",
      "weighted avg       0.96      0.97      0.96      3000\n",
      "\n"
     ]
    }
   ],
   "source": [
    "y_pred = logreg.predict(X_test)\n",
    "log_accuracy = metrics.accuracy_score(y_test,y_pred)\n",
    "print(\"Accuracy Score before Sampling : \", log_accuracy)\n",
    "print(\"ROC AUC Score before Sampling : \",metrics.roc_auc_score(y_test,y_pred))\n",
    "classification = metrics.classification_report(y_test,y_pred)\n",
    "print(classification)"
   ]
  },
  {
   "cell_type": "markdown",
   "id": "significant-remedy",
   "metadata": {},
   "source": [
    "We can see 96.8% accuracy with Logictic Regression..\n",
    "We are getting very high accuracy because it is predicting mostly the majority class that is 0 (Non-Defaulters)."
   ]
  },
  {
   "cell_type": "code",
   "execution_count": 41,
   "id": "retired-sentence",
   "metadata": {},
   "outputs": [
    {
     "data": {
      "image/png": "[encoded data removed]",
      "text/plain": [
       "<Figure size 432x288 with 1 Axes>"
      ]
     },
     "metadata": {
      "needs_background": "light"
     },
     "output_type": "display_data"
    }
   ],
   "source": [
    "probas_pred = logreg.predict_proba(X_test)[:, 1]\n",
    "# calculate model precision-recall curve\n",
    "precision, recall, _ = metrics.precision_recall_curve(y_test, probas_pred)\n",
    "# calculate precision-recall-AUC for above graph\n",
    "auc_p_r = auc(recall, precision)\n",
    "# plot the model precision-recall curve\n",
    "plt.plot(recall, precision, marker='.', label = 'AUC_PR = %0.2f' % auc_p_r)\n",
    "# axis labels\n",
    "plt.xlabel('Recall')\n",
    "plt.ylabel('Precision')\n",
    "# show the legend\n",
    "plt.legend()\n",
    "# show the plot\n",
    "plt.show()"
   ]
  },
  {
   "cell_type": "markdown",
   "id": "sublime-publication",
   "metadata": {},
   "source": [
    "### Creating logistic Regression Model using Under-Sampling DataSet"
   ]
  },
  {
   "cell_type": "code",
   "execution_count": 42,
   "id": "orange-trout",
   "metadata": {},
   "outputs": [
    {
     "data": {
      "text/plain": [
       "LogisticRegression()"
      ]
     },
     "execution_count": 42,
     "metadata": {},
     "output_type": "execute_result"
    }
   ],
   "source": [
    "logreg_under = LogisticRegression()\n",
    "#logreg_under.fit(X_train_ncr,y_train_ncr)\n",
    "logreg_under.fit(X_train_nm,y_train_nm)\n",
    "#logreg_under.fit(X_train_cc,y_train_cc)"
   ]
  },
  {
   "cell_type": "code",
   "execution_count": 43,
   "id": "southwest-burns",
   "metadata": {},
   "outputs": [
    {
     "name": "stdout",
     "output_type": "stream",
     "text": [
      "Accuracy Score Under Sampling :  0.917\n",
      "ROC AUC Score after Sampling :  0.8027448712128977\n",
      "              precision    recall  f1-score   support\n",
      "\n",
      "           0       0.99      0.92      0.96      2906\n",
      "           1       0.23      0.68      0.34        94\n",
      "\n",
      "    accuracy                           0.92      3000\n",
      "   macro avg       0.61      0.80      0.65      3000\n",
      "weighted avg       0.97      0.92      0.94      3000\n",
      "\n"
     ]
    }
   ],
   "source": [
    "y_pred_under = logreg_under.predict(X_test)\n",
    "## Measure performance metrics\n",
    "log_accuracy_under = metrics.accuracy_score(y_test,y_pred_under)\n",
    "print(\"Accuracy Score Under Sampling : \", log_accuracy_under)\n",
    "print(\"ROC AUC Score after Sampling : \",metrics.roc_auc_score(y_test,y_pred_under))\n",
    "classification_under = metrics.classification_report(y_test,y_pred_under)\n",
    "print(classification_under)"
   ]
  },
  {
   "cell_type": "code",
   "execution_count": 44,
   "id": "governmental-commander",
   "metadata": {},
   "outputs": [
    {
     "data": {
      "image/png": "[encoded data removed]",
      "text/plain": [
       "<Figure size 432x288 with 1 Axes>"
      ]
     },
     "metadata": {
      "needs_background": "light"
     },
     "output_type": "display_data"
    }
   ],
   "source": [
    "probas_pred_under = logreg_under.predict_proba(X_test)[:, 1]\n",
    "# calculate model precision-recall curve\n",
    "precision_u, recall_u, _ = metrics.precision_recall_curve(y_test, probas_pred_under)\n",
    "# calculate precision-recall-AUC\n",
    "auc_p_r_u = auc(recall_u, precision_u)\n",
    "# plot the model precision-recall curve\n",
    "plt.plot(recall_u, precision_u, marker='.', label = 'AUC_PR_U = %0.2f' % auc_p_r_u)\n",
    "# axis labels\n",
    "plt.xlabel('Recall')\n",
    "plt.ylabel('Precision')\n",
    "# show the legend\n",
    "plt.legend()\n",
    "# show the plot\n",
    "plt.show()"
   ]
  },
  {
   "cell_type": "markdown",
   "id": "spread-semiconductor",
   "metadata": {},
   "source": [
    "## <span style=\"color:green\"> Over-Sampling to deal with Imbalanced Dataset"
   ]
  },
  {
   "cell_type": "markdown",
   "id": "legal-occupation",
   "metadata": {},
   "source": [
    "### <span style=\"color:blue\"> 1 : Random Over-Sampling"
   ]
  },
  {
   "cell_type": "code",
   "execution_count": 45,
   "id": "contrary-manitoba",
   "metadata": {},
   "outputs": [
    {
     "name": "stdout",
     "output_type": "stream",
     "text": [
      "total class : \n",
      "0    6761\n",
      "1    6761\n",
      "Name: default, dtype: int64\n"
     ]
    },
    {
     "data": {
      "text/plain": [
       "<AxesSubplot:title={'center':'count y_train)'}>"
      ]
     },
     "execution_count": 45,
     "metadata": {},
     "output_type": "execute_result"
    },
    {
     "data": {
      "image/png": "[encoded data removed]",
      "text/plain": [
       "<Figure size 432x288 with 1 Axes>"
      ]
     },
     "metadata": {
      "needs_background": "light"
     },
     "output_type": "display_data"
    }
   ],
   "source": [
    "y_train_1_over = y_train_1.sample(y_train_count_0,replace = True)\n",
    "\n",
    "y_train_over = pd.concat([y_train_1_over, y_train_0], axis=0)\n",
    "\n",
    "print(\"total class : \")\n",
    "print(y_train_over.value_counts())\n",
    "# plot the count after over-sampeling\n",
    "y_train_over.value_counts().plot(kind='bar', title='count y_train)')"
   ]
  },
  {
   "cell_type": "markdown",
   "id": "cardiovascular-niagara",
   "metadata": {},
   "source": [
    "### <span style=\"color:blue\"> 2 : Random over-sampling with imblearn"
   ]
  },
  {
   "cell_type": "code",
   "execution_count": 46,
   "id": "intellectual-stand",
   "metadata": {},
   "outputs": [],
   "source": [
    "from imblearn.over_sampling import RandomOverSampler"
   ]
  },
  {
   "cell_type": "code",
   "execution_count": 47,
   "id": "employed-trick",
   "metadata": {},
   "outputs": [],
   "source": [
    "ros = RandomOverSampler()\n",
    "X_train_ros,y_train_ros = ros.fit_sample(X_train,y_train)"
   ]
  },
  {
   "cell_type": "code",
   "execution_count": 48,
   "id": "sunset-raleigh",
   "metadata": {},
   "outputs": [
    {
     "data": {
      "text/plain": [
       "(13522,)"
      ]
     },
     "execution_count": 48,
     "metadata": {},
     "output_type": "execute_result"
    }
   ],
   "source": [
    "y_train_ros.shape"
   ]
  },
  {
   "cell_type": "code",
   "execution_count": 49,
   "id": "abroad-consolidation",
   "metadata": {},
   "outputs": [
    {
     "name": "stdout",
     "output_type": "stream",
     "text": [
      "original dataset shape: Counter({0: 6761, 1: 239})\n",
      "Resample dataset shape Counter({0: 6761, 1: 6761})\n"
     ]
    }
   ],
   "source": [
    "print('original dataset shape:', Counter(y_train))\n",
    "print('Resample dataset shape', Counter(y_train_ros))"
   ]
  },
  {
   "cell_type": "markdown",
   "id": "adaptive-france",
   "metadata": {},
   "source": [
    "### <span style=\"color:blue\"> 3 : Synthetic Minority Oversampling Technique (SMOTE)"
   ]
  },
  {
   "cell_type": "markdown",
   "id": "positive-weekly",
   "metadata": {},
   "source": [
    "This technique generates synthetic data for the minority class.It works by randomly picking a point from the minority class and computing the k-nearest neighbors for this point. The synthetic points are added between the chosen point and its neighbors.\n",
    "\n",
    "SMOTE algorithm works in 4 simple steps:\n",
    "\n",
    "- Choose a minority class as the input vector\n",
    "- Find its k nearest neighbors (k_neighbors is specified as an argument in the SMOTE() function)\n",
    "- Choose one of these neighbors and place a synthetic point anywhere on the line joining the point under consideration  and its chosen neighbor\n",
    "- Repeat the steps until data is balanced\n",
    "\n",
    "SMOTE is used to synthesize data where the features are continuous and a classification problem."
   ]
  },
  {
   "cell_type": "markdown",
   "id": "democratic-architect",
   "metadata": {},
   "source": [
    "<img src=\"https://raw.githubusercontent.com/atulpatelDS/Machine_Learning/master/Images/smote.PNG\" width=\"540\" height=\"240\" align=\"left\"/>"
   ]
  },
  {
   "cell_type": "code",
   "execution_count": 50,
   "id": "criminal-defensive",
   "metadata": {},
   "outputs": [],
   "source": [
    "from imblearn.over_sampling import SMOTE"
   ]
  },
  {
   "cell_type": "code",
   "execution_count": 51,
   "id": "southeast-mathematics",
   "metadata": {},
   "outputs": [],
   "source": [
    "# create the  object with the desired sampling strategy.\n",
    "smote = SMOTE(sampling_strategy='minority',random_state=42)\n",
    "\n",
    "# fit the object to our training data\n",
    "X_train_smote, y_train_smote = smote.fit_sample(X_train, y_train)"
   ]
  },
  {
   "cell_type": "code",
   "execution_count": 52,
   "id": "nervous-complex",
   "metadata": {},
   "outputs": [
    {
     "name": "stdout",
     "output_type": "stream",
     "text": [
      "original dataset shape: Counter({0: 6761, 1: 239})\n",
      "Resample dataset shape Counter({0: 6761, 1: 6761})\n"
     ]
    }
   ],
   "source": [
    "print('original dataset shape:', Counter(y_train))\n",
    "print('Resample dataset shape', Counter(y_train_smote))"
   ]
  },
  {
   "cell_type": "markdown",
   "id": "upper-monkey",
   "metadata": {},
   "source": [
    "### <span style=\"color:blue\"> 4 : SMOTE-NC"
   ]
  },
  {
   "cell_type": "markdown",
   "id": "alternative-nerve",
   "metadata": {},
   "source": [
    "I have mention that SMOTE only works for continuous features. So, what to do if you have mixed (categorical and continuous) features? In this case, we have another variation of SMOTE called SMOTE-NC (Nominal and Continuous)."
   ]
  },
  {
   "cell_type": "markdown",
   "id": "acute-checklist",
   "metadata": {},
   "source": [
    "You might think, then, just transform the categorical data into numerical; therefore, we had a numerical feature for SMOTE to use. The problem is when we did that; we would have data that did not make any sense."
   ]
  },
  {
   "cell_type": "code",
   "execution_count": 53,
   "id": "portable-celebrity",
   "metadata": {},
   "outputs": [],
   "source": [
    "#Import the SMOTE-NC\n",
    "from imblearn.over_sampling import SMOTENC"
   ]
  },
  {
   "cell_type": "code",
   "execution_count": 54,
   "id": "after-agent",
   "metadata": {},
   "outputs": [],
   "source": [
    "# create the  object with the desired sampling strategy.\n",
    "# For SMOTE-NC we need to pinpoint the column position where is the categorical features are. \n",
    "# In this case, 'IsActiveMember' is positioned in the second column we input [1] as the parameter. \n",
    "# If you have more than one categorical columns, just input all the columns position\n",
    "smotenc = SMOTENC([0],sampling_strategy='minority') \n",
    "\n",
    "# fit the object to our training data\n",
    "X_train_smotenc, y_train_smotenc = smotenc.fit_sample(X_train, y_train)"
   ]
  },
  {
   "cell_type": "code",
   "execution_count": 55,
   "id": "stone-domestic",
   "metadata": {},
   "outputs": [
    {
     "name": "stdout",
     "output_type": "stream",
     "text": [
      "original dataset shape: Counter({0: 6761, 1: 239})\n",
      "Resample dataset shape Counter({0: 6761, 1: 6761})\n"
     ]
    }
   ],
   "source": [
    "print('original dataset shape:', Counter(y_train))\n",
    "print('Resample dataset shape', Counter(y_train_smotenc))"
   ]
  },
  {
   "cell_type": "markdown",
   "id": "express-brighton",
   "metadata": {},
   "source": [
    "### <span style=\"color:blue\"> 5 : Borderline-SMOTE"
   ]
  },
  {
   "cell_type": "markdown",
   "id": "convenient-flight",
   "metadata": {},
   "source": [
    "unlike with the SMOTE, where the synthetic data are created randomly between the two data, Borderline-SMOTE method create synthetic examples along the decision boundary between the two classes.It involves selecting those instances of the minority class that are misclassified, such as with a k-nearest neighbor classification model.\n",
    "\n",
    "We can then oversample just those difficult instances, providing more resolution only where it may be required."
   ]
  },
  {
   "cell_type": "markdown",
   "id": "animated-salvation",
   "metadata": {},
   "source": [
    "Also, there are two kinds of Borderline-SMOTE\n",
    "\n",
    "1. Borderline-SMOTE1\n",
    "2. Borderline-SMOTE2\n",
    "\n",
    "\n",
    "\n",
    "https://sci2s.ugr.es/keel/keel-dataset/pdfs/2005-Han-LNCS.pdf"
   ]
  },
  {
   "cell_type": "code",
   "execution_count": 56,
   "id": "green-thermal",
   "metadata": {},
   "outputs": [],
   "source": [
    "from imblearn.over_sampling import BorderlineSMOTE"
   ]
  },
  {
   "cell_type": "code",
   "execution_count": 57,
   "id": "expanded-collect",
   "metadata": {},
   "outputs": [],
   "source": [
    "bsmote1 = BorderlineSMOTE(kind = 'borderline-1',sampling_strategy='minority',random_state = 42)"
   ]
  },
  {
   "cell_type": "code",
   "execution_count": 58,
   "id": "frank-safety",
   "metadata": {},
   "outputs": [],
   "source": [
    "# fit the object to our training data\n",
    "X_train_bsmote1, y_train_bsmote1 = bsmote1.fit_sample(X_train, y_train)"
   ]
  },
  {
   "cell_type": "code",
   "execution_count": 59,
   "id": "sacred-import",
   "metadata": {},
   "outputs": [
    {
     "name": "stdout",
     "output_type": "stream",
     "text": [
      "original dataset shape: Counter({0: 6761, 1: 239})\n",
      "Resample dataset shape Counter({0: 6761, 1: 6761})\n"
     ]
    }
   ],
   "source": [
    "print('original dataset shape:', Counter(y_train))\n",
    "print('Resample dataset shape', Counter(y_train_bsmote1))"
   ]
  },
  {
   "cell_type": "code",
   "execution_count": 60,
   "id": "steady-stomach",
   "metadata": {},
   "outputs": [],
   "source": [
    "bsmote2 = BorderlineSMOTE(kind = 'borderline-2',sampling_strategy='minority',random_state = 42)"
   ]
  },
  {
   "cell_type": "code",
   "execution_count": 61,
   "id": "powerful-beauty",
   "metadata": {},
   "outputs": [],
   "source": [
    "# fit the object to our training data\n",
    "X_train_bsmote2, y_train_bsmote2 = bsmote2.fit_sample(X_train, y_train)"
   ]
  },
  {
   "cell_type": "code",
   "execution_count": 62,
   "id": "comparable-palmer",
   "metadata": {},
   "outputs": [
    {
     "name": "stdout",
     "output_type": "stream",
     "text": [
      "original dataset shape: Counter({0: 6761, 1: 239})\n",
      "Resample dataset shape Counter({0: 6761, 1: 6761})\n"
     ]
    }
   ],
   "source": [
    "print('original dataset shape:', Counter(y_train))\n",
    "print('Resample dataset shape', Counter(y_train_bsmote2))"
   ]
  },
  {
   "cell_type": "markdown",
   "id": "altered-looking",
   "metadata": {},
   "source": [
    "### <span style=\"color:blue\"> 5 : Borderline-SMOTE SVM"
   ]
  },
  {
   "cell_type": "markdown",
   "id": "romance-terror",
   "metadata": {},
   "source": [
    "The main differences between SVM-SMOTE and the other SMOTE are that instead of using K-nearest neighbors to identify the misclassification in the Borderline-SMOTE, the technique would incorporate the SVM algorithm.\n",
    "\n",
    "In the SVM-SMOTE, the borderline area is approximated by the support vectors after training SVMs classifier on the original training set. Synthetic data will be randomly created along the lines joining each minority class support vector with a number of its nearest neighbors.\n",
    "What special about Borderline-SMOTE SVM compared to the Borderline-SMOTE is that more data are synthesized away from the region of class overlap. It focuses more on where the data is separated."
   ]
  },
  {
   "cell_type": "code",
   "execution_count": 63,
   "id": "dense-calculation",
   "metadata": {},
   "outputs": [],
   "source": [
    "from imblearn.over_sampling import SVMSMOTE"
   ]
  },
  {
   "cell_type": "code",
   "execution_count": 64,
   "id": "spatial-scholarship",
   "metadata": {},
   "outputs": [],
   "source": [
    "svmsmote = SVMSMOTE(sampling_strategy='minority',random_state = 42)"
   ]
  },
  {
   "cell_type": "code",
   "execution_count": 65,
   "id": "incredible-moscow",
   "metadata": {},
   "outputs": [],
   "source": [
    "# fit the object to our training data\n",
    "X_train_svmsmote, y_train_svmsmote= svmsmote.fit_sample(X_train, y_train)"
   ]
  },
  {
   "cell_type": "code",
   "execution_count": 66,
   "id": "major-indian",
   "metadata": {},
   "outputs": [
    {
     "name": "stdout",
     "output_type": "stream",
     "text": [
      "original dataset shape: Counter({0: 6761, 1: 239})\n",
      "Resample dataset shape Counter({0: 6761, 1: 6761})\n"
     ]
    }
   ],
   "source": [
    "print('original dataset shape:', Counter(y_train))\n",
    "print('Resample dataset shape', Counter(y_train_svmsmote))"
   ]
  },
  {
   "cell_type": "markdown",
   "id": "assisted-azerbaijan",
   "metadata": {},
   "source": [
    "### <span style=\"color:blue\"> 5 : KMeansSMOTE "
   ]
  },
  {
   "cell_type": "markdown",
   "id": "superior-quantum",
   "metadata": {},
   "source": [
    "Apply a KMeans clustering before to over-sample using SMOTE.\n",
    "\n",
    "K-Means SMOTE works in three steps:\n",
    " - Cluster the entire input space using k-means.\n",
    " - Distribute the number of samples to generate across clusters:\n",
    "     - Select clusters which have a high number of minority class samples.\n",
    "     - Assign more synthetic samples to clusters where minority class samples are sparsely distributed.\n",
    " - Oversample each filtered cluster using SMOTE."
   ]
  },
  {
   "cell_type": "code",
   "execution_count": 67,
   "id": "dense-arthur",
   "metadata": {},
   "outputs": [],
   "source": [
    "from imblearn.over_sampling import KMeansSMOTE"
   ]
  },
  {
   "cell_type": "code",
   "execution_count": 68,
   "id": "professional-spelling",
   "metadata": {},
   "outputs": [],
   "source": [
    "from sklearn.preprocessing import StandardScaler\n",
    "from sklearn.cluster import KMeans"
   ]
  },
  {
   "cell_type": "code",
   "execution_count": 69,
   "id": "framed-lesson",
   "metadata": {},
   "outputs": [],
   "source": [
    "scale = StandardScaler()\n",
    "X_train_scale = scale.fit_transform(X_train)"
   ]
  },
  {
   "cell_type": "code",
   "execution_count": 70,
   "id": "vertical-philippines",
   "metadata": {},
   "outputs": [],
   "source": [
    "### Elbow method to find the No of cluster using WSS\n",
    "wss = []\n",
    "cluster = list(range(1,12))\n",
    "\n",
    "for k in cluster:\n",
    "    kmean = KMeans(n_clusters= k,init=\"k-means++\",random_state = 42)\n",
    "    kmean.fit(X_train_scale)\n",
    "    wss.append(kmean.inertia_)"
   ]
  },
  {
   "cell_type": "code",
   "execution_count": 71,
   "id": "departmental-variation",
   "metadata": {},
   "outputs": [
    {
     "data": {
      "text/plain": [
       "Text(0.5, 0, 'No of Cluster')"
      ]
     },
     "execution_count": 71,
     "metadata": {},
     "output_type": "execute_result"
    },
    {
     "data": {
      "image/png": "[encoded data removed]",
      "text/plain": [
       "<Figure size 432x288 with 1 Axes>"
      ]
     },
     "metadata": {
      "needs_background": "light"
     },
     "output_type": "display_data"
    }
   ],
   "source": [
    "plt.title(\"Elbow Method to find Cluster\")\n",
    "sns.lineplot(x=cluster,y=wss)\n",
    "plt.ylabel(\"Within Sum of Squares(wss)\")\n",
    "plt.xlabel(\"No of Cluster\")"
   ]
  },
  {
   "cell_type": "code",
   "execution_count": 72,
   "id": "general-unemployment",
   "metadata": {},
   "outputs": [],
   "source": [
    "ksmote = KMeansSMOTE(\n",
    "    sampling_strategy='minority',\n",
    "    #random_state = 42,\n",
    "    k_neighbors=2,\n",
    "    kmeans_estimator=2,\n",
    "    cluster_balance_threshold=0.02,\n",
    "    density_exponent='auto')"
   ]
  },
  {
   "cell_type": "code",
   "execution_count": 73,
   "id": "bronze-gothic",
   "metadata": {},
   "outputs": [],
   "source": [
    "# fit the object to our training data\n",
    "X_train_ksmote, y_train_ksmote = ksmote.fit_resample(X_train, y_train)"
   ]
  },
  {
   "cell_type": "code",
   "execution_count": 74,
   "id": "earlier-warrior",
   "metadata": {},
   "outputs": [
    {
     "name": "stdout",
     "output_type": "stream",
     "text": [
      "original dataset shape: Counter({0: 6761, 1: 239})\n",
      "Resample dataset shape Counter({1: 6762, 0: 6761})\n"
     ]
    }
   ],
   "source": [
    "print('original dataset shape:', Counter(y_train))\n",
    "print('Resample dataset shape', Counter(y_train_ksmote))"
   ]
  },
  {
   "cell_type": "markdown",
   "id": "marine-breach",
   "metadata": {},
   "source": [
    "### <span style=\"color:blue\"> 4 : Oversampling with Adaptive Synthetic sampling(ADASYN)"
   ]
  },
  {
   "cell_type": "markdown",
   "id": "speaking-springer",
   "metadata": {},
   "source": [
    "It measures the K-nearest neighbors for all minority instances, then calculates the class ratio of the minority and majority instances to create new samples.\n",
    "Repeating this process, we will adaptively shift the decision boundary to focus on those samples that are hard to learn.\n",
    "The synthetic data generation would inversely proportional to the density of the minority class. It means more synthetic data are created in regions of the feature space where the density of minority examples is low, and fewer or none where the density is high.\n",
    "In simpler terms, in an area where the minority class is less dense, the synthetic data are created more. Otherwise, the synthetic data is not made so much."
   ]
  },
  {
   "cell_type": "code",
   "execution_count": 75,
   "id": "elder-electric",
   "metadata": {},
   "outputs": [],
   "source": [
    "from imblearn.over_sampling import ADASYN"
   ]
  },
  {
   "cell_type": "code",
   "execution_count": 76,
   "id": "restricted-galaxy",
   "metadata": {},
   "outputs": [],
   "source": [
    "# create the object to resample the majority class.\n",
    "adasyn = ADASYN(sampling_strategy=\"minority\",random_state=42)\n",
    "\n",
    "# fit the object to the training data.\n",
    "X_train_adasyn, y_train_adasyn = adasyn.fit_sample(X_train, y_train)"
   ]
  },
  {
   "cell_type": "code",
   "execution_count": 77,
   "id": "induced-transfer",
   "metadata": {},
   "outputs": [
    {
     "name": "stdout",
     "output_type": "stream",
     "text": [
      "original dataset shape: Counter({0: 6761, 1: 239})\n",
      "Resample dataset shape Counter({1: 6767, 0: 6761})\n"
     ]
    }
   ],
   "source": [
    "print('original dataset shape:', Counter(y_train))\n",
    "print('Resample dataset shape', Counter(y_train_adasyn))"
   ]
  },
  {
   "cell_type": "markdown",
   "id": "reduced-norman",
   "metadata": {},
   "source": [
    "### Creating logistic Regression Model before Over-Sampling"
   ]
  },
  {
   "cell_type": "code",
   "execution_count": 78,
   "id": "standard-postcard",
   "metadata": {},
   "outputs": [
    {
     "data": {
      "text/plain": [
       "LogisticRegression()"
      ]
     },
     "execution_count": 78,
     "metadata": {},
     "output_type": "execute_result"
    }
   ],
   "source": [
    "logreg = LogisticRegression()\n",
    "logreg.fit(X_train,y_train)"
   ]
  },
  {
   "cell_type": "code",
   "execution_count": 79,
   "id": "obvious-reducing",
   "metadata": {
    "scrolled": true
   },
   "outputs": [
    {
     "name": "stdout",
     "output_type": "stream",
     "text": [
      "Accuracy Score before Sampling :  0.9683333333333334\n",
      "ROC AUC Score before Sampling :  0.5976226735587413\n",
      "              precision    recall  f1-score   support\n",
      "\n",
      "           0       0.97      0.99      0.98      2906\n",
      "           1       0.49      0.20      0.29        94\n",
      "\n",
      "    accuracy                           0.97      3000\n",
      "   macro avg       0.73      0.60      0.63      3000\n",
      "weighted avg       0.96      0.97      0.96      3000\n",
      "\n"
     ]
    }
   ],
   "source": [
    "y_pred = logreg.predict(X_test)\n",
    "log_accuracy = metrics.accuracy_score(y_test,y_pred)\n",
    "print(\"Accuracy Score before Sampling : \", log_accuracy)\n",
    "print(\"ROC AUC Score before Sampling : \",metrics.roc_auc_score(y_test,y_pred))\n",
    "classification = metrics.classification_report(y_test,y_pred)\n",
    "print(classification)"
   ]
  },
  {
   "cell_type": "code",
   "execution_count": 80,
   "id": "tired-state",
   "metadata": {},
   "outputs": [
    {
     "data": {
      "image/png": "[encoded data removed]",
      "text/plain": [
       "<Figure size 432x288 with 1 Axes>"
      ]
     },
     "metadata": {
      "needs_background": "light"
     },
     "output_type": "display_data"
    }
   ],
   "source": [
    "probas_pred = logreg.predict_proba(X_test)[:, 1]\n",
    "# calculate model precision-recall curve\n",
    "precision, recall, _ = metrics.precision_recall_curve(y_test, probas_pred)\n",
    "# calculate precision-recall-AUC for above graph\n",
    "auc_p_r = auc(recall, precision)\n",
    "# plot the model precision-recall curve\n",
    "plt.plot(recall, precision, marker='.', label = 'AUC_PR = %0.2f' % auc_p_r)\n",
    "# axis labels\n",
    "plt.xlabel('Recall')\n",
    "plt.ylabel('Precision')\n",
    "# show the legend\n",
    "plt.legend()\n",
    "# show the plot\n",
    "plt.show()"
   ]
  },
  {
   "cell_type": "markdown",
   "id": "removed-forum",
   "metadata": {},
   "source": [
    "### Creating logistic Regression Model using Over-Sampling DataSet"
   ]
  },
  {
   "cell_type": "code",
   "execution_count": 81,
   "id": "alternate-behalf",
   "metadata": {},
   "outputs": [
    {
     "data": {
      "text/plain": [
       "LogisticRegression()"
      ]
     },
     "execution_count": 81,
     "metadata": {},
     "output_type": "execute_result"
    }
   ],
   "source": [
    "logreg_over = LogisticRegression()\n",
    "#logreg_over.fit(X_train_ros,y_train_ros)\n",
    "#logreg_over.fit(X_train_smote,y_train_smote)\n",
    "logreg_over.fit(X_train_ksmote,y_train_ksmote)\n",
    "#logreg_over.fit(X_train_adasyn,y_train_adasyn)\n",
    "#logreg_over.fit(X_train_smotenc,y_train_smotenc)"
   ]
  },
  {
   "cell_type": "code",
   "execution_count": 82,
   "id": "whole-disposal",
   "metadata": {},
   "outputs": [
    {
     "name": "stdout",
     "output_type": "stream",
     "text": [
      "Accuracy Score over Sampling :  0.85\n",
      "ROC AUC Score after Sampling :  0.85566180023722\n",
      "              precision    recall  f1-score   support\n",
      "\n",
      "           0       0.99      0.85      0.92      2906\n",
      "           1       0.16      0.86      0.26        94\n",
      "\n",
      "    accuracy                           0.85      3000\n",
      "   macro avg       0.58      0.86      0.59      3000\n",
      "weighted avg       0.97      0.85      0.90      3000\n",
      "\n"
     ]
    }
   ],
   "source": [
    "y_pred_over = logreg_over.predict(X_test)\n",
    "## Measure performance metrics\n",
    "log_accuracy_over = metrics.accuracy_score(y_test,y_pred_over)\n",
    "print(\"Accuracy Score over Sampling : \", log_accuracy_over)\n",
    "print(\"ROC AUC Score after Sampling : \",metrics.roc_auc_score(y_test,y_pred_over))\n",
    "classification_over = metrics.classification_report(y_test,y_pred_over)\n",
    "print(classification_over)"
   ]
  },
  {
   "cell_type": "code",
   "execution_count": 83,
   "id": "earlier-center",
   "metadata": {},
   "outputs": [
    {
     "data": {
      "image/png": "[encoded data removed]",
      "text/plain": [
       "<Figure size 432x288 with 1 Axes>"
      ]
     },
     "metadata": {
      "needs_background": "light"
     },
     "output_type": "display_data"
    }
   ],
   "source": [
    "probas_pred_over = logreg_over.predict_proba(X_test)[:, 1]\n",
    "# calculate model precision-recall curve\n",
    "precision_o, recall_o, _ = metrics.precision_recall_curve(y_test, probas_pred_over)\n",
    "# calculate precision-recall-AUC\n",
    "auc_p_r_o = auc(recall_o, precision_o)\n",
    "# plot the model precision-recall curve\n",
    "plt.plot(recall_o, precision_o, marker='.', label = 'AUC_PR_O = %0.2f' % auc_p_r_o)\n",
    "# axis labels\n",
    "plt.xlabel('Recall')\n",
    "plt.ylabel('Precision')\n",
    "# show the legend\n",
    "plt.legend()\n",
    "# show the plot\n",
    "plt.show()"
   ]
  },
  {
   "cell_type": "markdown",
   "id": "included-extraction",
   "metadata": {},
   "source": [
    "## <span style=\"color:green\"> Combining Oversampling and Undersampling"
   ]
  },
  {
   "cell_type": "markdown",
   "id": "forced-drilling",
   "metadata": {},
   "source": [
    "We can combine oversampling and undersampling techniques to get better sampling results. Here are two ways that imblearn provides:"
   ]
  },
  {
   "cell_type": "markdown",
   "id": "golden-browser",
   "metadata": {},
   "source": [
    "### <span style=\"color:blue\"> 1 : Combining Oversampling and Undersampling - SMOTE & Tomek Links "
   ]
  },
  {
   "cell_type": "code",
   "execution_count": 109,
   "id": "wireless-lodge",
   "metadata": {},
   "outputs": [],
   "source": [
    "from imblearn.combine import SMOTETomek"
   ]
  },
  {
   "cell_type": "code",
   "execution_count": 110,
   "id": "continued-avenue",
   "metadata": {},
   "outputs": [],
   "source": [
    "# create the  object with the desired sampling strategy.\n",
    "smotemek = SMOTETomek(sampling_strategy='minority')\n",
    "\n",
    "# fit the object to our training data.\n",
    "X_train_smt, y_train_smt = smotemek.fit_sample(X_train, y_train)"
   ]
  },
  {
   "cell_type": "code",
   "execution_count": 111,
   "id": "acquired-drilling",
   "metadata": {},
   "outputs": [
    {
     "name": "stdout",
     "output_type": "stream",
     "text": [
      "original dataset shape: Counter({0: 6761, 1: 6761})\n",
      "Resample dataset shape Counter({0: 6569, 1: 6569})\n"
     ]
    }
   ],
   "source": [
    "print('original dataset shape:', Counter(y_train))\n",
    "print('Resample dataset shape', Counter(y_train_smt))"
   ]
  },
  {
   "cell_type": "markdown",
   "id": "documented-pierce",
   "metadata": {},
   "source": [
    "### <span style=\"color:blue\"> 2 : Combining Oversampling and Undersampling - SMOTE & Edited Nearest Neighbor"
   ]
  },
  {
   "cell_type": "code",
   "execution_count": 112,
   "id": "understanding-mechanics",
   "metadata": {},
   "outputs": [],
   "source": [
    "from imblearn.combine import SMOTEENN"
   ]
  },
  {
   "cell_type": "code",
   "execution_count": 113,
   "id": "republican-denmark",
   "metadata": {},
   "outputs": [],
   "source": [
    "# create the  object with the desired samplig strategy.\n",
    "smoenn = SMOTEENN(sampling_strategy='minority')\n",
    "\n",
    "# fit the object to our training data.\n",
    "X_train_smtenn, y_train_smtenn = smoenn.fit_sample(X_train, y_train)"
   ]
  },
  {
   "cell_type": "code",
   "execution_count": 114,
   "id": "meaning-agent",
   "metadata": {},
   "outputs": [
    {
     "name": "stdout",
     "output_type": "stream",
     "text": [
      "original dataset shape: Counter({0: 6761, 1: 6761})\n",
      "Resample dataset shape Counter({0: 5895, 1: 5832})\n"
     ]
    }
   ],
   "source": [
    "print('original dataset shape:', Counter(y_train))\n",
    "print('Resample dataset shape', Counter(y_train_smtenn))"
   ]
  },
  {
   "cell_type": "markdown",
   "id": "white-chest",
   "metadata": {},
   "source": [
    "### Creating logistic Regression Model using Combined-Sampling"
   ]
  },
  {
   "cell_type": "code",
   "execution_count": 115,
   "id": "through-verification",
   "metadata": {},
   "outputs": [
    {
     "data": {
      "text/plain": [
       "LogisticRegression()"
      ]
     },
     "execution_count": 115,
     "metadata": {},
     "output_type": "execute_result"
    }
   ],
   "source": [
    "logreg_com = LogisticRegression()\n",
    "#logreg_com.fit(X_train_smt,y_train_smt)\n",
    "logreg_com.fit(X_train_smtenn,y_train_smtenn)\n"
   ]
  },
  {
   "cell_type": "code",
   "execution_count": 116,
   "id": "correct-trading",
   "metadata": {},
   "outputs": [
    {
     "name": "stdout",
     "output_type": "stream",
     "text": [
      "Accuracy Score com Sampling :  0.871\n",
      "ROC AUC Score after Sampling :  0.8767956246064633\n",
      "              precision    recall  f1-score   support\n",
      "\n",
      "           0       1.00      0.87      0.93      2906\n",
      "           1       0.18      0.88      0.30        94\n",
      "\n",
      "    accuracy                           0.87      3000\n",
      "   macro avg       0.59      0.88      0.61      3000\n",
      "weighted avg       0.97      0.87      0.91      3000\n",
      "\n"
     ]
    }
   ],
   "source": [
    "y_pred_com = logreg_com.predict(X_test)\n",
    "## Measure performance metrics\n",
    "log_accuracy_com = metrics.accuracy_score(y_test,y_pred_com)\n",
    "print(\"Accuracy Score com Sampling : \", log_accuracy_com)\n",
    "print(\"ROC AUC Score after Sampling : \",metrics.roc_auc_score(y_test,y_pred_com))\n",
    "classification_com = metrics.classification_report(y_test,y_pred_com)\n",
    "print(classification_com)"
   ]
  },
  {
   "cell_type": "code",
   "execution_count": 117,
   "id": "powerful-coupon",
   "metadata": {},
   "outputs": [
    {
     "data": {
      "image/png": "[encoded data removed]",
      "text/plain": [
       "<Figure size 432x288 with 1 Axes>"
      ]
     },
     "metadata": {
      "needs_background": "light"
     },
     "output_type": "display_data"
    }
   ],
   "source": [
    "probas_pred_com = logreg_com.predict_proba(X_test)[:, 1]\n",
    "# calculate model precision-recall curve\n",
    "precision_c, recall_c, _ = metrics.precision_recall_curve(y_test, probas_pred_com)\n",
    "# calculate precision-recall-AUC\n",
    "auc_p_r_c = auc(recall_c, precision_c)\n",
    "# plot the model precision-recall curve\n",
    "plt.plot(recall_c, precision_c, marker='.', label = 'AUC_PR_C = %0.2f' % auc_p_r_c)\n",
    "# axis labels\n",
    "plt.xlabel('Recall')\n",
    "plt.ylabel('Precision')\n",
    "# show the legend\n",
    "plt.legend()\n",
    "# show the plot\n",
    "plt.show()"
   ]
  },
  {
   "cell_type": "markdown",
   "id": "private-journey",
   "metadata": {},
   "source": [
    "# <span style=\"color:red\"> 2 : Resampling technique using right performance metric"
   ]
  },
  {
   "cell_type": "markdown",
   "id": "certain-observation",
   "metadata": {},
   "source": [
    "Accuracy is not the best metric to use when evaluating imbalanced datasets as it can be misleading.\n",
    "\n",
    "Choosing the right evaluation metric is pretty essential whenever we work with imbalanced datasets. Generally, in such cases, the F1 Score is what I want as my evaluation metric. The F1 score is a number between 0 and 1 and is the harmonic mean of precision and recall."
   ]
  },
  {
   "cell_type": "markdown",
   "id": "hazardous-abortion",
   "metadata": {},
   "source": [
    "So how does it help?\n",
    "\n",
    "- Let us start with a binary prediction problem. We are predicting if aeroplance will be crashed or not.So we   create a model that predicts “No” for the whole training set.\n",
    "- What is the accuracy(Normally the most used evaluation metric)?\n",
    "- It is more than 99%, and so according to accuracy, this model is pretty good, but it is worthless.\n",
    "\n",
    "Now, what is the F1 score?\n",
    "- Our precision here is 0. What is the recall of our positive class? It is zero. And hence the F1 score is also 0.\n",
    "  And thus we get to know that the classifier that has an accuracy of 99% is worthless for our case. And hence it solves our problem.\n",
    "  \n",
    "Simply stated the F1 score maintain a balance between the precision and recall for your classifier. If your precision is low, the F1 is low, and if the recall is low again, your F1 score is low.\n",
    "\n",
    "If you are a police inspector and you want to catch criminals, you want to be sure that the person you catch is a criminal (Precision) and you also want to capture as many criminals (Recall) as possible. The F1 score manages this tradeoff."
   ]
  },
  {
   "cell_type": "code",
   "execution_count": 93,
   "id": "encouraging-heath",
   "metadata": {},
   "outputs": [
    {
     "data": {
      "text/plain": [
       "0.8181818181818181"
      ]
     },
     "execution_count": 93,
     "metadata": {},
     "output_type": "execute_result"
    }
   ],
   "source": [
    "from sklearn.metrics import f1_score\n",
    "y_true = [0,1,1,0,1,1,1,1,1,1,1,1,1,1,1]\n",
    "y_pred = [0,0,1,0,0,1,1,1,1,0,1,1,1,1,0]\n",
    "f1_score(y_true, y_pred)"
   ]
  },
  {
   "cell_type": "code",
   "execution_count": 94,
   "id": "veterinary-smart",
   "metadata": {},
   "outputs": [
    {
     "data": {
      "text/plain": [
       "array([0.1 , 0.11, 0.12, 0.13, 0.14, 0.15, 0.16, 0.17, 0.18, 0.19, 0.2 ,\n",
       "       0.21, 0.22, 0.23, 0.24, 0.25, 0.26, 0.27, 0.28, 0.29, 0.3 , 0.31,\n",
       "       0.32, 0.33, 0.34, 0.35, 0.36, 0.37, 0.38, 0.39, 0.4 , 0.41, 0.42,\n",
       "       0.43, 0.44, 0.45, 0.46, 0.47, 0.48, 0.49, 0.5 ])"
      ]
     },
     "execution_count": 94,
     "metadata": {},
     "output_type": "execute_result"
    }
   ],
   "source": [
    "np.arange(0.1, 0.501, 0.01)"
   ]
  },
  {
   "cell_type": "code",
   "execution_count": 95,
   "id": "canadian-gender",
   "metadata": {},
   "outputs": [],
   "source": [
    "# The below function iterates through possible threshold values to find the one that gives the best F1 score.\n",
    "# y_pred is an array of predictions\n",
    "def bestThresshold(y_true,y_pred):\n",
    "    best_thresh = None\n",
    "    best_score = 0\n",
    "    for thresh in np.arange(0.1, 0.501, 0.01):\n",
    "        score = f1_score(y_true, np.array(y_pred)>thresh)\n",
    "        if score > best_score:\n",
    "            best_thresh = thresh\n",
    "            best_score = score\n",
    "    return best_score , best_thresh"
   ]
  },
  {
   "cell_type": "code",
   "execution_count": 96,
   "id": "standard-house",
   "metadata": {},
   "outputs": [
    {
     "data": {
      "text/plain": [
       "(0.8181818181818181, 0.1)"
      ]
     },
     "execution_count": 96,
     "metadata": {},
     "output_type": "execute_result"
    }
   ],
   "source": [
    "bestThresshold(y_true,y_pred)"
   ]
  },
  {
   "cell_type": "markdown",
   "id": "awful-saver",
   "metadata": {},
   "source": [
    "## <span style=\"color:red\"> 3 : Resampling technique using Penalize Algorithms (Cost-Sensitive Training)"
   ]
  },
  {
   "cell_type": "markdown",
   "id": "retained-scott",
   "metadata": {},
   "source": [
    "With some algorithms, we can add costs to force the model to pay attention to the minority class. There are penalized versions of algorithms such as penalized-SVM and logistic regression, even when using deep learning models throughout the class_weight attribute.\n",
    "\n",
    "Most of the machine learning models provide a parameter called class_weights. For example, in a random forest classifier using, class_weights we can specify a higher weight for the minority class using a dictionary.So During training, we can use the argument class_weight to penalize mistakes on the minority class by an amount proportional to how under-represented it is.\n",
    "\n",
    "**A popular algorithm for this technique is Penalized-SVM.**"
   ]
  },
  {
   "cell_type": "code",
   "execution_count": 97,
   "id": "medical-ethiopia",
   "metadata": {},
   "outputs": [
    {
     "name": "stdout",
     "output_type": "stream",
     "text": [
      "original dataset shape: Counter({0: 6761, 1: 239})\n",
      "original dataset shape Counter({0: 2906, 1: 94})\n"
     ]
    }
   ],
   "source": [
    "print('original dataset shape:', Counter(y_train))\n",
    "print('original dataset shape', Counter(y_test))"
   ]
  },
  {
   "cell_type": "code",
   "execution_count": 98,
   "id": "young-lobby",
   "metadata": {},
   "outputs": [
    {
     "name": "stdout",
     "output_type": "stream",
     "text": [
      "ROCAUC score: 0.8733105387239899\n",
      "Accuracy score: 0.8343333333333334\n",
      "F1 score: 0.2571001494768311\n"
     ]
    }
   ],
   "source": [
    "# load library\n",
    "from sklearn.svm import SVC\n",
    "\n",
    "# we can add class_weight='balanced' to add panalize mistake\n",
    "svc_model = SVC(class_weight='balanced', probability=True) \n",
    "# probability=True ,if we want to enable probability estimates for SVM algorithms.\n",
    "\n",
    "svc_model.fit(X_train, y_train)\n",
    "\n",
    "svc_predict = svc_model.predict(X_test)\n",
    "# check performance\n",
    "print('ROCAUC score:',roc_auc_score(y_test, svc_predict))\n",
    "print('Accuracy score:',accuracy_score(y_test, svc_predict))\n",
    "print('F1 score:',f1_score(y_test, svc_predict))"
   ]
  },
  {
   "cell_type": "markdown",
   "id": "electoral-sullivan",
   "metadata": {},
   "source": [
    "**Another algorithm for this technique is LogisticRegression**"
   ]
  },
  {
   "cell_type": "code",
   "execution_count": 99,
   "id": "german-technology",
   "metadata": {},
   "outputs": [
    {
     "name": "stdout",
     "output_type": "stream",
     "text": [
      "ROCAUC score: 0.6581357719172365\n",
      "Accuracy score: 0.8163333333333334\n",
      "F1 score: 0.14307931570762056\n"
     ]
    }
   ],
   "source": [
    "# we can add class_weight={0:1,1:10} to add panalize mistake\n",
    "lgc_model = LogisticRegression(class_weight={0:1,1:10}) \n",
    "\n",
    "lgc_model.fit(X_train, y_train)\n",
    "\n",
    "lgc_predict = lgc_model.predict(X_test)\n",
    "# check performance\n",
    "print('ROCAUC score:',roc_auc_score(y_test, lgc_predict))\n",
    "print('Accuracy score:',accuracy_score(y_test, lgc_predict))\n",
    "print('F1 score:',f1_score(y_test, lgc_predict))"
   ]
  },
  {
   "cell_type": "markdown",
   "id": "proud-wellington",
   "metadata": {},
   "source": [
    "## <span style=\"color:red\"> 4 : Collect more and more Data"
   ]
  },
  {
   "cell_type": "markdown",
   "id": "strategic-winner",
   "metadata": {},
   "source": [
    "This is a definite thing you should try if you can. Getting more data with more positive examples is going to help your models get a more varied perspective of both the majority and minority classes."
   ]
  },
  {
   "cell_type": "markdown",
   "id": "opposite-memorial",
   "metadata": {},
   "source": [
    "## <span style=\"color:red\"> 5 : Treat the problem as anomaly detection"
   ]
  },
  {
   "cell_type": "markdown",
   "id": "visible-mumbai",
   "metadata": {},
   "source": [
    "You might want to treat your classification problem as an anomaly detection problem.\n",
    "\n",
    "Anomaly detection is the identification of rare items, events or observations which raise suspicions by differing significantly from the majority of the data\n",
    "\n",
    "You can use Isolation forests or autoencoders for anomaly detection."
   ]
  },
  {
   "cell_type": "markdown",
   "id": "considerable-beijing",
   "metadata": {},
   "source": [
    "## <span style=\"color:red\"> 6 : Model-based"
   ]
  },
  {
   "cell_type": "markdown",
   "id": "rubber-weight",
   "metadata": {},
   "source": [
    "Some models are particularly suited for imbalanced datasets.\n",
    "\n",
    "For example, in boosting models, we give more weights to the cases that get misclassified in each tree iteration."
   ]
  },
  {
   "cell_type": "markdown",
   "id": "female-association",
   "metadata": {},
   "source": [
    "### Using RandomForestClassifier Model"
   ]
  },
  {
   "cell_type": "code",
   "execution_count": 100,
   "id": "absolute-monaco",
   "metadata": {},
   "outputs": [
    {
     "name": "stdout",
     "output_type": "stream",
     "text": [
      "ROCAUC score: 0.64463472492715\n",
      "Accuracy score: 0.9696666666666667\n",
      "F1 score: 0.380952380952381\n"
     ]
    }
   ],
   "source": [
    "# load library\n",
    "from sklearn.ensemble import RandomForestClassifier\n",
    "\n",
    "rfc = RandomForestClassifier()\n",
    "\n",
    "# fit the predictor and target\n",
    "rfc.fit(X_train, y_train)\n",
    "\n",
    "# predict\n",
    "rfc_predict = rfc.predict(X_test)\n",
    "# check performance\n",
    "print('ROCAUC score:',roc_auc_score(y_test, rfc_predict))\n",
    "print('Accuracy score:',accuracy_score(y_test, rfc_predict))\n",
    "print('F1 score:',f1_score(y_test, rfc_predict))"
   ]
  },
  {
   "cell_type": "code",
   "execution_count": 101,
   "id": "bound-lightweight",
   "metadata": {},
   "outputs": [
    {
     "data": {
      "image/png": "[encoded data removed]",
      "text/plain": [
       "<Figure size 432x288 with 1 Axes>"
      ]
     },
     "metadata": {
      "needs_background": "light"
     },
     "output_type": "display_data"
    }
   ],
   "source": [
    "rfc_predprob = rfc.predict_proba(X_test)[:, 1]\n",
    "precision, recall, _ = precision_recall_curve(y_test, rfc_predprob)\n",
    "# calculate precision-recall-AUC for above graph\n",
    "auc_p_r = auc(recall, precision)\n",
    "# plot the model precision-recall curve\n",
    "plt.plot(recall, precision, marker='.', label = 'AUC_PR = %0.2f' % auc_p_r)\n",
    "# axis labels\n",
    "plt.xlabel('Recall')\n",
    "plt.ylabel('Precision')\n",
    "# show the legend\n",
    "plt.legend()\n",
    "# show the plot\n",
    "plt.show()"
   ]
  },
  {
   "cell_type": "markdown",
   "id": "incoming-marking",
   "metadata": {},
   "source": [
    "### Using XGBClassifier Model"
   ]
  },
  {
   "cell_type": "code",
   "execution_count": 102,
   "id": "arranged-price",
   "metadata": {},
   "outputs": [
    {
     "name": "stdout",
     "output_type": "stream",
     "text": [
      "ROCAUC score: 0.6463553030413963\n",
      "Accuracy score: 0.973\n",
      "F1 score: 0.40875912408759124\n"
     ]
    }
   ],
   "source": [
    "# load library\n",
    "from xgboost import XGBClassifier\n",
    "\n",
    "xgbc = XGBClassifier()\n",
    "\n",
    "# fit the predictor and target\n",
    "xgbc.fit(X_train, y_train)\n",
    "\n",
    "# predict\n",
    "xgbc_predict = xgbc.predict(X_test)\n",
    "# check performance\n",
    "print('ROCAUC score:',roc_auc_score(y_test, xgbc_predict))\n",
    "print('Accuracy score:',accuracy_score(y_test, xgbc_predict))\n",
    "print('F1 score:',f1_score(y_test, xgbc_predict))"
   ]
  },
  {
   "cell_type": "code",
   "execution_count": 103,
   "id": "adjustable-arthritis",
   "metadata": {},
   "outputs": [
    {
     "data": {
      "image/png": "[encoded data removed]",
      "text/plain": [
       "<Figure size 432x288 with 1 Axes>"
      ]
     },
     "metadata": {
      "needs_background": "light"
     },
     "output_type": "display_data"
    }
   ],
   "source": [
    "xgbc_predprob = xgbc.predict_proba(X_test)[:, 1]\n",
    "precision, recall, _ = precision_recall_curve(y_test, xgbc_predprob)\n",
    "# calculate precision-recall-AUC for above graph\n",
    "auc_p_r = auc(recall, precision)\n",
    "# plot the model precision-recall curve\n",
    "plt.plot(recall, precision, marker='.', label = 'AUC_PR = %0.2f' % auc_p_r)\n",
    "# axis labels\n",
    "plt.xlabel('Recall')\n",
    "plt.ylabel('Precision')\n",
    "# show the legend\n",
    "plt.legend()\n",
    "# show the plot\n",
    "plt.show()"
   ]
  },
  {
   "cell_type": "markdown",
   "id": "accompanied-bosnia",
   "metadata": {},
   "source": [
    "# <span style=\"color:red\"> 6 : Use Cross Validation(CV) with Sampling"
   ]
  },
  {
   "cell_type": "code",
   "execution_count": 104,
   "id": "fancy-killer",
   "metadata": {},
   "outputs": [
    {
     "name": "stdout",
     "output_type": "stream",
     "text": [
      "Cross-validation score: 0.9072034895887041\n",
      "Test score: 0.3025830258302583\n"
     ]
    }
   ],
   "source": [
    "import numpy as np\n",
    "import pandas as pd\n",
    "from sklearn.linear_model import LogisticRegression\n",
    "from sklearn.model_selection import train_test_split, GridSearchCV, StratifiedKFold\n",
    "from sklearn.preprocessing import MinMaxScaler\n",
    "from imblearn.over_sampling import SMOTE\n",
    "from imblearn.pipeline import Pipeline as imbpipeline\n",
    "from sklearn.pipeline import Pipeline\n",
    "\n",
    "#X_train, X_test, y_train, y_test = train_test_split(X,y,test_size=0.2,stratify=y,random_state=42)\n",
    "\n",
    "smote = SMOTE(random_state = 11)\n",
    "X_train, y_train = smote.fit_resample(X_train, y_train)\n",
    "pipeline = Pipeline(steps = [['scaler', MinMaxScaler()],\n",
    "                             ['classifier', LogisticRegression(random_state=11,\n",
    "                                                               max_iter=1000)]])\n",
    "\n",
    "stratified_kfold = StratifiedKFold(n_splits=3,\n",
    "                                       shuffle=True,\n",
    "                                       random_state=11)\n",
    "    \n",
    "param_grid = {'classifier__C':[0.001, 0.01, 0.1, 1, 10, 100, 1000]}\n",
    "grid_search = GridSearchCV(estimator=pipeline,\n",
    "                           param_grid=param_grid,\n",
    "                           scoring='f1',\n",
    "                           cv=stratified_kfold,\n",
    "                           n_jobs=-1)\n",
    "\n",
    "grid_search.fit(X_train, y_train)\n",
    "cv_score = grid_search.best_score_\n",
    "test_score = grid_search.score(X_test, y_test)\n",
    "print(f'Cross-validation score: {cv_score}\\nTest score: {test_score}')"
   ]
  },
  {
   "cell_type": "markdown",
   "id": "turkish-ticket",
   "metadata": {},
   "source": [
    "n the above code , we’ve split the data into training and test sets. Then we’ve oversampled the training examples using SMOTE and used the oversampled data to train the logistic regression model. We computed the cross-validation score and the test score on the test set. The method followed above is not a right way to use SMOTE or any undersampling/oversampling technique from the ‘imblearn’ package. This method may result in an inaccurate cross-validation score, which may be quite different from the test score or score on unseen data. \n",
    "\n",
    "Let’s look at the right way to use SMOTE while using cross-validation."
   ]
  },
  {
   "cell_type": "code",
   "execution_count": 105,
   "id": "joint-jonathan",
   "metadata": {},
   "outputs": [
    {
     "name": "stdout",
     "output_type": "stream",
     "text": [
      "Cross-validation score: 0.9071385506935994\n",
      "Test score: 0.3025830258302583\n"
     ]
    }
   ],
   "source": [
    "#X_train, X_test, y_train, y_test = train_test_split(X,y,test_size=0.2,stratify=y,random_state=42)\n",
    "\n",
    "\n",
    "pipeline = imbpipeline(steps = [['smote', SMOTE(random_state=11)],\n",
    "                                ['scaler', MinMaxScaler()],\n",
    "                                ['classifier', LogisticRegression(random_state=11,\n",
    "                                                                  max_iter=1000)]])\n",
    "\n",
    "stratified_kfold = StratifiedKFold(n_splits=3,\n",
    "                                       shuffle=True,\n",
    "                                       random_state=11)\n",
    "    \n",
    "param_grid = {'classifier__C':[0.001, 0.01, 0.1, 1, 10, 100, 1000]}\n",
    "grid_search = GridSearchCV(estimator=pipeline,\n",
    "                           param_grid=param_grid,\n",
    "                           scoring='f1', #roc_auc\n",
    "                           cv=stratified_kfold,\n",
    "                           n_jobs=-1)\n",
    "\n",
    "grid_search.fit(X_train, y_train)\n",
    "cv_score = grid_search.best_score_\n",
    "test_score = grid_search.score(X_test, y_test)\n",
    "print(f'Cross-validation score: {cv_score}\\nTest score: {test_score}')"
   ]
  },
  {
   "cell_type": "markdown",
   "id": "featured-mechanism",
   "metadata": {},
   "source": [
    "In the above code , we’ve used SMOTE as a part of a pipeline. This pipeline is not a ‘Scikit-Learn’ pipeline, but ‘imblearn’ pipeline. Since, SMOTE doesn’t have a ‘fit_transform’ method, we cannot use it with ‘Scikit-Learn’ pipeline."
   ]
  },
  {
   "cell_type": "markdown",
   "id": "abandoned-great",
   "metadata": {},
   "source": [
    "From the results of the above two methods, we aren’t able to see a major difference between the cross-validation scores of the two methods. However, the second method resulted in a cross-validation score that is very slightly closer to the test score compared to the first method."
   ]
  },
  {
   "cell_type": "markdown",
   "id": "loving-skill",
   "metadata": {},
   "source": [
    "###  <span style=\"color:blue\"> Advantage and Disadvantages of Over-sampling :"
   ]
  },
  {
   "cell_type": "markdown",
   "id": "surface-spectacular",
   "metadata": {},
   "source": [
    "**Advantages**\n",
    " - Unlike under-sampling, this method leads to no information loss.\n",
    " - Outperforms under sampling\n",
    "\n",
    "**Disadvantages**\n",
    " - If we duplicate random records from the minority class to do oversampling, this will cause overfitting."
   ]
  },
  {
   "cell_type": "markdown",
   "id": "congressional-village",
   "metadata": {},
   "source": [
    "### <span style=\"color:blue\"> Advantage and Disadvantages of Under-sampling :"
   ]
  },
  {
   "cell_type": "markdown",
   "id": "developmental-addiction",
   "metadata": {},
   "source": [
    "**Advantages**\n",
    " - It can help improve run time and storage problems by reducing the number of training data samples when the training data set is huge.\n",
    "\n",
    "**Disadvantages**\n",
    " - By undersampling and removing random records from the majority class, we will lose some important information for the machine learning algorithm to use while training and predicting.\n",
    " - The sample chosen by random under-sampling may be a biased sample. And it will not be an accurate representation of the population. Thereby, resulting in inaccurate results with the actual test data set."
   ]
  }
 ],
 "metadata": {
  "kernelspec": {
   "display_name": "Python 3 (ipykernel)",
   "language": "python",
   "name": "python3"
  },
  "language_info": {
   "codemirror_mode": {
    "name": "ipython",
    "version": 3
   },
   "file_extension": ".py",
   "mimetype": "text/x-python",
   "name": "python",
   "nbconvert_exporter": "python",
   "pygments_lexer": "ipython3",
   "version": "3.8.15"
  }
 },
 "nbformat": 4,
 "nbformat_minor": 5
}
